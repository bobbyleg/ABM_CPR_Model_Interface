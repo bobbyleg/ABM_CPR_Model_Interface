{
 "cells": [
  {
   "cell_type": "code",
   "execution_count": null,
   "metadata": {},
   "outputs": [],
   "source": [
    "import numpy as np \n",
    "import matplotlib.pyplot as plt "
   ]
  },
  {
   "cell_type": "markdown",
   "metadata": {},
   "source": [
    "### Plot 1: resource state"
   ]
  },
  {
   "cell_type": "code",
   "execution_count": null,
   "metadata": {},
   "outputs": [],
   "source": [
    "def plot1_resource_state(n_results, BREE1, BREE2, x, T, P, plot_title):\n",
    "    # set up plot\n",
    "    fig = plt.figure(figsize=(20, 8))\n",
    "    y = np.arange(T*P+1)\n",
    "\n",
    "    # the simulations\n",
    "    for i in range(x):\n",
    "        plt.plot(y, n_results[i,:], c='blue')\n",
    "    plt.plot(y, np.ones(T*P+1)*BREE1, c='black', linestyle='dashed')\n",
    "\n",
    "        # pretty pretty\n",
    "    plt.annotate('full-information equilibrium', xy=(0, BREE1), xytext=(0, BREE1), fontsize=13)\n",
    "    plt.xticks(np.linspace(0,T*P+1,5), np.linspace(0,T+1,5, dtype=int), fontsize=20)\n",
    "    plt.yticks(fontsize=20)\n",
    "    plt.xlabel('Time', fontsize=20)\n",
    "    plt.ylim(0,1)\n",
    "\n",
    "    # save and show\n",
    "    plt.savefig(f'gui/gui_plots/resource_state_{plot_title}.png', dpi=300)"
   ]
  },
  {
   "cell_type": "markdown",
   "metadata": {},
   "source": [
    "### Plot 2: Payoff difference by degree"
   ]
  },
  {
   "cell_type": "code",
   "execution_count": null,
   "metadata": {},
   "outputs": [],
   "source": [
    "def plot2_payoff_difference(degrees_results, acting_p_results, pd_results, T, P, plot_title):\n",
    "    # setup\n",
    "    fig = plt.figure(figsize=(20, 8))\n",
    "\n",
    "    # subplot with payoff difference\n",
    "    acting_degree = degrees_results[0, acting_p_results[0, :].astype(int)]\n",
    "    plt.scatter(np.arange(T*P), pd_results[0, :], c=acting_degree) \n",
    "    plt.xlabel('Time', fontsize=20)\n",
    "    plt.ylabel('Payoff difference', fontsize=20)\n",
    "    plt.xticks(fontsize=20)\n",
    "    plt.yticks(fontsize=20)\n",
    "    plt.ylim(np.min(pd_results[0, :])-0.03, np.max(pd_results[0, :])+0.03)\n",
    "    plt.colorbar()  \n",
    "\n",
    "    # save and show\n",
    "    plt.tight_layout()\n",
    "    plt.savefig(f'gui/gui_plots/payoff_difference_{plot_title}.png', dpi=300)"
   ]
  },
  {
   "cell_type": "markdown",
   "metadata": {},
   "source": [
    "### Plot 3: Heuristics"
   ]
  },
  {
   "cell_type": "code",
   "execution_count": null,
   "metadata": {},
   "outputs": [],
   "source": [
    "def plot3_heuristics(heuristic_results, x, T, P, plot_title):\n",
    "    # set up plot\n",
    "    fig = plt.figure(figsize=(20, 8))\n",
    "    y = np.arange(T*P+1)\n",
    "    colors = ['black', 'blue', 'red', 'green']\n",
    "    labels = ['Adaptive', 'Trend', 'Contrarian', 'Anchoring']\n",
    "\n",
    "    # the simulations\n",
    "    for i in range(x):\n",
    "        for j in range(4):\n",
    "            if i == 0:\n",
    "                plt.plot(y, heuristic_results[i,:,j], c=colors[j], label=labels[j])\n",
    "            else:\n",
    "                plt.plot(y, heuristic_results[i,:,j], c=colors[j])\n",
    "\n",
    "        # pretty pretty\n",
    "    plt.xticks(np.linspace(0,T*P,5), np.linspace(0,T,5, dtype=int), fontsize=20)\n",
    "    plt.yticks(fontsize=20)\n",
    "    plt.xlabel('Time', fontsize=20)\n",
    "    plt.ylim(0,1)\n",
    "    plt.legend(fontsize=20)\n",
    "\n",
    "    # save and show\n",
    "    plt.savefig(f'gui/gui_plots/heuristics_{plot_title}.png', dpi=300)"
   ]
  }
 ],
 "metadata": {
  "language_info": {
   "name": "python"
  }
 },
 "nbformat": 4,
 "nbformat_minor": 2
}
